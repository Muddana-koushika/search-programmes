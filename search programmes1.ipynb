{
 "cells": [
  {
   "cell_type": "code",
   "execution_count": 1,
   "metadata": {},
   "outputs": [
    {
     "name": "stdout",
     "output_type": "stream",
     "text": [
      "enter length of the list10\n",
      "enter any number12\n",
      "enter any number34\n",
      "enter any number56\n",
      "enter any number78\n",
      "enter any number90\n",
      "enter any number10\n",
      "enter any number23\n",
      "enter any number32\n",
      "enter any number45\n",
      "enter any number69\n",
      "[12, 34, 56, 78, 90, 10, 23, 32, 45, 69]\n",
      "enter any number to search56\n",
      "Elements is found at 2\n"
     ]
    }
   ],
   "source": [
    "a=int(input(\"enter length of the list\"))\n",
    "l=[]\n",
    "for i in range(a):\n",
    "    l=l+[int(input(\"enter any number\"))]\n",
    "print(l)\n",
    "key=int(input(\"enter any number to search\"))\n",
    "flag=0\n",
    "for i in range(a):\n",
    "    if l[i]==key:\n",
    "        print(\"Elements is found at\",i)\n",
    "        flag=1\n",
    "        break\n",
    "if flag==0:\n",
    "    print(\"Element is not found in list\")\n",
    "    "
   ]
  },
  {
   "cell_type": "code",
   "execution_count": 2,
   "metadata": {},
   "outputs": [
    {
     "name": "stdout",
     "output_type": "stream",
     "text": [
      "enter the length of the list10\n",
      "enter a number:12\n",
      "enter a number:45\n",
      "enter a number:72\n",
      "enter a number:32\n",
      "enter a number:78\n",
      "enter a number:92\n",
      "enter a number:64\n",
      "enter a number:39\n",
      "enter a number:20\n",
      "enter a number:71\n",
      "enter any number to search72\n",
      "element is found\n"
     ]
    }
   ],
   "source": [
    "a=[]\n",
    "b=int(input(\"enter the length of the list\"))\n",
    "for i in range(b):\n",
    "    a=a+[int(input(\"enter a number:\"))]\n",
    "key=int(input(\"enter any number to search\"))\n",
    "l=0\n",
    "a.sort()\n",
    "flag=0\n",
    "h=(len(a)-1)\n",
    "while(h-l)>1:\n",
    "    mid=(l+h)//2\n",
    "    if a[mid]==key:\n",
    "        flag=1\n",
    "        print(\"element is found\")\n",
    "        break\n",
    "    elif key>a[mid]:\n",
    "        l=mid+1\n",
    "    elif key<a[mid]:\n",
    "        h=mid-1\n",
    "if a[h]==key or a[l]==key:\n",
    "    print(\"elements is found\")\n",
    "    flag=1\n",
    "    \n",
    "if flag==0:\n",
    "    print(\"elements is not found in the list\")"
   ]
  },
  {
   "cell_type": "code",
   "execution_count": null,
   "metadata": {},
   "outputs": [],
   "source": []
  }
 ],
 "metadata": {
  "kernelspec": {
   "display_name": "Python 3",
   "language": "python",
   "name": "python3"
  },
  "language_info": {
   "codemirror_mode": {
    "name": "ipython",
    "version": 3
   },
   "file_extension": ".py",
   "mimetype": "text/x-python",
   "name": "python",
   "nbconvert_exporter": "python",
   "pygments_lexer": "ipython3",
   "version": "3.8.5"
  }
 },
 "nbformat": 4,
 "nbformat_minor": 4
}
